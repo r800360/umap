{
  "cells": [
    {
      "cell_type": "markdown",
      "metadata": {},
      "source": [
        "\n# UMAP on the MNIST Digits dataset\n\nA simple example demonstrating how to use UMAP on a larger\ndataset such as MNIST. We first pull the MNIST dataset and\nthen use UMAP to reduce it to only 2-dimensions for\neasy visualisation.\n\nNote that UMAP manages to both group the individual digit\nclasses, but also to retain the overall global structure\namong the different digit classes -- keeping 1 far from\n0, and grouping triplets of 3,5,8 and 4,7,9 which can\nblend into one another in some cases.\n"
      ]
    },
    {
      "cell_type": "code",
      "execution_count": null,
      "metadata": {
        "collapsed": false
      },
      "outputs": [],
      "source": [
        "import matplotlib.pyplot as plt\nimport seaborn as sns\nfrom sklearn.datasets import fetch_openml\nfrom sklearn.model_selection import train_test_split\n\nimport umap\n\nsns.set(context=\"paper\", style=\"white\")\n\nmnist = fetch_openml(\"mnist_784\", version=1)\nX_train, X_test, y_train, y_test = train_test_split(\n    mnist.data, mnist.target, stratify=mnist.target, random_state=42\n)\n\nreducer = umap.UMAP(random_state=42)\nembedding_train = reducer.fit_transform(X_train)\nembedding_test = reducer.transform(X_test)\n\nfig, ax = plt.subplots(1, 2, sharex=True, sharey=True, figsize=(12, 10))\nax[0].scatter(\n    embedding_train[:, 0], embedding_train[:, 1], c=y_train, cmap=\"Spectral\"  # , s=0.1\n)\nax[1].scatter(\n    embedding_test[:, 0], embedding_test[:, 1], c=y_test, cmap=\"Spectral\"  # , s=0.1\n)\nplt.setp(ax[0], xticks=[], yticks=[])\nplt.setp(ax[1], xticks=[], yticks=[])\nplt.suptitle(\"MNIST data embedded into two dimensions by UMAP\", fontsize=18)\nax[0].set_title(\"Training Set\", fontsize=12)\nax[1].set_title(\"Test Set\", fontsize=12)\nplt.show()"
      ]
    }
  ],
  "metadata": {
    "kernelspec": {
      "display_name": "Python 3",
      "language": "python",
      "name": "python3"
    },
    "language_info": {
      "codemirror_mode": {
        "name": "ipython",
        "version": 3
      },
      "file_extension": ".py",
      "mimetype": "text/x-python",
      "name": "python",
      "nbconvert_exporter": "python",
      "pygments_lexer": "ipython3",
      "version": "3.8.8"
    }
  },
  "nbformat": 4,
  "nbformat_minor": 0
}