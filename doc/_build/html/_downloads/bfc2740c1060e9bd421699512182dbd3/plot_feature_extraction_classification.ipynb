{
  "cells": [
    {
      "cell_type": "markdown",
      "metadata": {},
      "source": [
        "\n# UMAP as a Feature Extraction Technique for Classification\n\nThe following script shows how UMAP can be used as a feature extraction\ntechnique to improve the accuracy on a classification task. It also shows\nhow UMAP can be integrated in standard scikit-learn pipelines.\n\nThe first step is to create a dataset for a classification task, which is\nperformed with the function ``sklearn.datasets.make_classification``. The\ndataset is then split into a training set and a test set using the\n``sklearn.model_selection.train_test_split`` function.\n\nSecond, a linear SVM is fitted on the training set. To choose the best\nhyperparameters automatically, a gridsearch is performed on the training set.\nThe performance of the model is then evaluated on the test set with the\naccuracy metric.\n\n Third, the previous step is repeated with a slight modification: UMAP is\n used as a feature extraction technique. This small change results in a\n substantial improvement compared to the model where raw data is used.\n"
      ]
    },
    {
      "cell_type": "code",
      "execution_count": null,
      "metadata": {
        "collapsed": false
      },
      "outputs": [],
      "source": [
        "from sklearn.datasets import make_classification\nfrom sklearn.model_selection import train_test_split, GridSearchCV\nfrom sklearn.pipeline import Pipeline\nfrom sklearn.svm import LinearSVC\n\nfrom umap import UMAP\n\n# Make a toy dataset\nX, y = make_classification(\n    n_samples=1000,\n    n_features=300,\n    n_informative=250,\n    n_redundant=0,\n    n_repeated=0,\n    n_classes=2,\n    random_state=1212,\n)\n\n# Split the dataset into a training set and a test set\nX_train, X_test, y_train, y_test = train_test_split(\n    X, y, test_size=0.2, random_state=42\n)\n\n# Classification with a linear SVM\nsvc = LinearSVC(dual=False, random_state=123)\nparams_grid = {\"C\": [10 ** k for k in range(-3, 4)]}\nclf = GridSearchCV(svc, params_grid)\nclf.fit(X_train, y_train)\nprint(\n    \"Accuracy on the test set with raw data: {:.3f}\".format(clf.score(X_test, y_test))\n)\n\n# Transformation with UMAP followed by classification with a linear SVM\numap = UMAP(random_state=456)\npipeline = Pipeline([(\"umap\", umap), (\"svc\", svc)])\nparams_grid_pipeline = {\n    \"umap__n_neighbors\": [5, 20],\n    \"umap__n_components\": [15, 25, 50],\n    \"svc__C\": [10 ** k for k in range(-3, 4)],\n}\n\n\nclf_pipeline = GridSearchCV(pipeline, params_grid_pipeline)\nclf_pipeline.fit(X_train, y_train)\nprint(\n    \"Accuracy on the test set with UMAP transformation: {:.3f}\".format(\n        clf_pipeline.score(X_test, y_test)\n    )\n)"
      ]
    }
  ],
  "metadata": {
    "kernelspec": {
      "display_name": "Python 3",
      "language": "python",
      "name": "python3"
    },
    "language_info": {
      "codemirror_mode": {
        "name": "ipython",
        "version": 3
      },
      "file_extension": ".py",
      "mimetype": "text/x-python",
      "name": "python",
      "nbconvert_exporter": "python",
      "pygments_lexer": "ipython3",
      "version": "3.8.8"
    }
  },
  "nbformat": 4,
  "nbformat_minor": 0
}