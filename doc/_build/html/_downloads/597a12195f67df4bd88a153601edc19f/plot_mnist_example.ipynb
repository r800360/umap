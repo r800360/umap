{
  "cells": [
    {
      "cell_type": "markdown",
      "metadata": {},
      "source": [
        "\n# UMAP on the MNIST Digits dataset\n\nA simple example demonstrating how to use UMAP on a larger\ndataset such as MNIST. We first pull the MNIST dataset and\nthen use UMAP to reduce it to only 2-dimensions for\neasy visualisation.\n\nNote that UMAP manages to both group the individual digit\nclasses, but also to retain the overall global structure\namong the different digit classes -- keeping 1 far from\n0, and grouping triplets of 3,5,8 and 4,7,9 which can\nblend into one another in some cases.\n"
      ]
    },
    {
      "cell_type": "code",
      "execution_count": null,
      "metadata": {
        "collapsed": false
      },
      "outputs": [],
      "source": [
        "import umap\nfrom sklearn.datasets import fetch_openml\nimport matplotlib.pyplot as plt\nimport seaborn as sns\n\nsns.set(context=\"paper\", style=\"white\")\n\nmnist = fetch_openml(\"mnist_784\", version=1)\n\nreducer = umap.UMAP(random_state=42)\nembedding = reducer.fit_transform(mnist.data)\n\nfig, ax = plt.subplots(figsize=(12, 10))\ncolor = mnist.target.astype(int)\nplt.scatter(embedding[:, 0], embedding[:, 1], c=color, cmap=\"Spectral\", s=0.1)\nplt.setp(ax, xticks=[], yticks=[])\nplt.title(\"MNIST data embedded into two dimensions by UMAP\", fontsize=18)\n\nplt.show()"
      ]
    }
  ],
  "metadata": {
    "kernelspec": {
      "display_name": "Python 3",
      "language": "python",
      "name": "python3"
    },
    "language_info": {
      "codemirror_mode": {
        "name": "ipython",
        "version": 3
      },
      "file_extension": ".py",
      "mimetype": "text/x-python",
      "name": "python",
      "nbconvert_exporter": "python",
      "pygments_lexer": "ipython3",
      "version": "3.8.8"
    }
  },
  "nbformat": 4,
  "nbformat_minor": 0
}